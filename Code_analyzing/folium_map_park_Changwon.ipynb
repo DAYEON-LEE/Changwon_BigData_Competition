{
 "cells": [
  {
   "cell_type": "code",
   "execution_count": 1,
   "metadata": {},
   "outputs": [],
   "source": [
    "import json\n",
    "import pandas as pd\n",
    "import numpy as np\n",
    "import os\n",
    "import folium"
   ]
  },
  {
   "cell_type": "code",
   "execution_count": 2,
   "metadata": {},
   "outputs": [
    {
     "data": {
      "text/plain": [
       "'C:\\\\Users\\\\user1\\\\Desktop\\\\창원_빅데이터_공모전\\\\Changwon_BigData_Competition\\\\Code_analyzing'"
      ]
     },
     "execution_count": 2,
     "metadata": {},
     "output_type": "execute_result"
    }
   ],
   "source": [
    "os.getcwd()"
   ]
  },
  {
   "cell_type": "code",
   "execution_count": 28,
   "metadata": {},
   "outputs": [
    {
     "data": {
      "text/html": [
       "<div>\n",
       "<style scoped>\n",
       "    .dataframe tbody tr th:only-of-type {\n",
       "        vertical-align: middle;\n",
       "    }\n",
       "\n",
       "    .dataframe tbody tr th {\n",
       "        vertical-align: top;\n",
       "    }\n",
       "\n",
       "    .dataframe thead th {\n",
       "        text-align: right;\n",
       "    }\n",
       "</style>\n",
       "<table border=\"1\" class=\"dataframe\">\n",
       "  <thead>\n",
       "    <tr style=\"text-align: right;\">\n",
       "      <th></th>\n",
       "      <th>park</th>\n",
       "      <th>count</th>\n",
       "      <th>address</th>\n",
       "      <th>longtitude</th>\n",
       "      <th>latitude</th>\n",
       "      <th>district</th>\n",
       "    </tr>\n",
       "  </thead>\n",
       "  <tbody>\n",
       "    <tr>\n",
       "      <th>0</th>\n",
       "      <td>북면수변생태공원</td>\n",
       "      <td>150</td>\n",
       "      <td>경남 창원시 의창구 북면 외산리 108</td>\n",
       "      <td>128.609791</td>\n",
       "      <td>35.380588</td>\n",
       "      <td>의창구</td>\n",
       "    </tr>\n",
       "    <tr>\n",
       "      <th>1</th>\n",
       "      <td>창원해양공원</td>\n",
       "      <td>145</td>\n",
       "      <td>경남 창원시 진해구 명동로 62</td>\n",
       "      <td>128.719348</td>\n",
       "      <td>35.092182</td>\n",
       "      <td>진해구</td>\n",
       "    </tr>\n",
       "    <tr>\n",
       "      <th>2</th>\n",
       "      <td>장미공원</td>\n",
       "      <td>69</td>\n",
       "      <td>경남 창원시 성산구 가음동 31</td>\n",
       "      <td>128.690275</td>\n",
       "      <td>35.207424</td>\n",
       "      <td>성산구</td>\n",
       "    </tr>\n",
       "    <tr>\n",
       "      <th>3</th>\n",
       "      <td>용지공원</td>\n",
       "      <td>52</td>\n",
       "      <td>경남 창원시 의창구 용지로169번길 26</td>\n",
       "      <td>128.681023</td>\n",
       "      <td>35.232080</td>\n",
       "      <td>의창구</td>\n",
       "    </tr>\n",
       "    <tr>\n",
       "      <th>4</th>\n",
       "      <td>진해내수면환경생태공원</td>\n",
       "      <td>37</td>\n",
       "      <td>경남 창원시 진해구 여명로71번길 65</td>\n",
       "      <td>128.660005</td>\n",
       "      <td>35.164035</td>\n",
       "      <td>진해구</td>\n",
       "    </tr>\n",
       "  </tbody>\n",
       "</table>\n",
       "</div>"
      ],
      "text/plain": [
       "          park  count                 address  longtitude   latitude district\n",
       "0     북면수변생태공원    150   경남 창원시 의창구 북면 외산리 108  128.609791  35.380588      의창구\n",
       "1       창원해양공원    145       경남 창원시 진해구 명동로 62  128.719348  35.092182      진해구\n",
       "2         장미공원     69       경남 창원시 성산구 가음동 31  128.690275  35.207424      성산구\n",
       "3         용지공원     52  경남 창원시 의창구 용지로169번길 26  128.681023  35.232080      의창구\n",
       "4  진해내수면환경생태공원     37   경남 창원시 진해구 여명로71번길 65  128.660005  35.164035      진해구"
      ]
     },
     "execution_count": 28,
     "metadata": {},
     "output_type": "execute_result"
    }
   ],
   "source": [
    "park_coordinates = pd.read_csv('C:\\\\Users\\\\user1\\\\Desktop\\\\창원_빅데이터_공모전\\\\Changwon_BigData_Competition\\\\Preprocessed_data\\\\Changwon_park_coordinates.csv')\n",
    "del park_coordinates['Unnamed: 0']\n",
    "park_coordinates.head()"
   ]
  },
  {
   "cell_type": "code",
   "execution_count": 33,
   "metadata": {},
   "outputs": [
    {
     "data": {
      "text/plain": [
       "array(['의창구', '진해구', '성산구', '마산합포구', '마산회원구'], dtype=object)"
      ]
     },
     "execution_count": 33,
     "metadata": {},
     "output_type": "execute_result"
    }
   ],
   "source": [
    "park_coordinates['district'].unique()"
   ]
  },
  {
   "cell_type": "code",
   "execution_count": 44,
   "metadata": {},
   "outputs": [
    {
     "data": {
      "text/html": [
       "<div>\n",
       "<style scoped>\n",
       "    .dataframe tbody tr th:only-of-type {\n",
       "        vertical-align: middle;\n",
       "    }\n",
       "\n",
       "    .dataframe tbody tr th {\n",
       "        vertical-align: top;\n",
       "    }\n",
       "\n",
       "    .dataframe thead th {\n",
       "        text-align: right;\n",
       "    }\n",
       "</style>\n",
       "<table border=\"1\" class=\"dataframe\">\n",
       "  <thead>\n",
       "    <tr style=\"text-align: right;\">\n",
       "      <th></th>\n",
       "      <th>park</th>\n",
       "      <th>count</th>\n",
       "      <th>address</th>\n",
       "      <th>longtitude</th>\n",
       "      <th>latitude</th>\n",
       "      <th>district</th>\n",
       "    </tr>\n",
       "  </thead>\n",
       "  <tbody>\n",
       "    <tr>\n",
       "      <th>15</th>\n",
       "      <td>삼계근린공원</td>\n",
       "      <td>1</td>\n",
       "      <td>경남 창원시 마산회원구 내서읍 광려로 8</td>\n",
       "      <td>128.5031</td>\n",
       "      <td>35.22609</td>\n",
       "      <td>마산회원구</td>\n",
       "    </tr>\n",
       "  </tbody>\n",
       "</table>\n",
       "</div>"
      ],
      "text/plain": [
       "      park  count                 address  longtitude  latitude district\n",
       "15  삼계근린공원      1  경남 창원시 마산회원구 내서읍 광려로 8    128.5031  35.22609    마산회원구"
      ]
     },
     "execution_count": 44,
     "metadata": {},
     "output_type": "execute_result"
    }
   ],
   "source": [
    "# Tmap에서 창원시 구에서 사람들이 검색한 공원의 개수와 빈도수를 folium으로 시각화 \n",
    "park_coordinates[park_coordinates['district'] == '마산회원구']"
   ]
  },
  {
   "cell_type": "code",
   "execution_count": 43,
   "metadata": {},
   "outputs": [
    {
     "name": "stdout",
     "output_type": "stream",
     "text": [
      "북면수변생태공원,용지공원,창원단감테마공원,사화공원,본포수변생태공원,창원수목원,대산플라워랜드,\n",
      "창원해양공원,진해내수면환경생태공원,제황산공원,장복산공원,\n",
      "장미공원,\n",
      "가포해안변공원,만날공원,산호공원,\n",
      "삼계근린공원,\n",
      "255\n",
      "207\n",
      "69\n",
      "38\n",
      "1\n"
     ]
    }
   ],
   "source": [
    "의창구_park = ''\n",
    "의창구_cnt = 0\n",
    "진해구_park = ''\n",
    "진해구_cnt = 0\n",
    "성산구_park = ''\n",
    "성산구_cnt = 0\n",
    "마산합포구_park = ''\n",
    "마산합포구_cnt = 0\n",
    "마산회원구_park = ''\n",
    "마산회원구_cnt = 0\n",
    "for i in range(len(park_coordinates)):\n",
    "    if park_coordinates['district'][i] == '의창구':\n",
    "        의창구_park+=(park_coordinates['park'][i])+','\n",
    "        의창구_cnt += park_coordinates['count'][i]\n",
    "    if park_coordinates['district'][i] == '진해구':\n",
    "        진해구_park+=(park_coordinates['park'][i])+','\n",
    "        진해구_cnt += park_coordinates['count'][i]\n",
    "    if park_coordinates['district'][i] == '성산구':\n",
    "        성산구_park+=(park_coordinates['park'][i])+','\n",
    "        성산구_cnt += park_coordinates['count'][i]\n",
    "    if park_coordinates['district'][i] == '마산합포구':\n",
    "        마산합포구_park+=(park_coordinates['park'][i])+','\n",
    "        마산합포구_cnt += park_coordinates['count'][i]\n",
    "    if park_coordinates['district'][i] == '마산회원구':\n",
    "        마산회원구_park+=(park_coordinates['park'][i])+','\n",
    "        마산회원구_cnt += park_coordinates['count'][i]\n",
    "        \n",
    "print(의창구_park)\n",
    "print(진해구_park)\n",
    "print(성산구_park)\n",
    "print(마산합포구_park)\n",
    "print(마산회원구_park)\n",
    "\n",
    "print(의창구_cnt)\n",
    "print(진해구_cnt)\n",
    "print(성산구_cnt)\n",
    "print(마산합포구_cnt)\n",
    "print(마산회원구_cnt)"
   ]
  },
  {
   "cell_type": "code",
   "execution_count": 46,
   "metadata": {},
   "outputs": [],
   "source": [
    "# 마지막 , 제거 \n",
    "의창구_park = 의창구_park[:-1]\n",
    "진해구_park = 진해구_park[:-1]\n",
    "성산구_park = 성산구_park[:-1]\n",
    "마산합포구_park = 마산합포구_park[:-1]\n",
    "마산회원구_park = 마산회원구_park[:-1]"
   ]
  },
  {
   "cell_type": "code",
   "execution_count": 47,
   "metadata": {},
   "outputs": [
    {
     "data": {
      "text/plain": [
       "['북면수변생태공원,용지공원,창원단감테마공원,사화공원,본포수변생태공원,창원수목원,대산플라워랜',\n",
       " '창원해양공원,진해내수면환경생태공원,제황산공원,장복산공',\n",
       " '장미공',\n",
       " '가포해안변공원,만날공원,산호공',\n",
       " '삼계근린공원']"
      ]
     },
     "execution_count": 47,
     "metadata": {},
     "output_type": "execute_result"
    }
   ],
   "source": [
    "park_names = [의창구_park,진해구_park,성산구_park,마산합포구_park,마산회원구_park] \n",
    "park_names"
   ]
  },
  {
   "cell_type": "code",
   "execution_count": 48,
   "metadata": {},
   "outputs": [
    {
     "data": {
      "text/plain": [
       "[255, 207, 69, 38, 1]"
      ]
     },
     "execution_count": 48,
     "metadata": {},
     "output_type": "execute_result"
    }
   ],
   "source": [
    "park_cnt = [의창구_cnt,진해구_cnt,성산구_cnt,마산합포구_cnt,마산회원구_cnt]\n",
    "park_cnt"
   ]
  },
  {
   "cell_type": "code",
   "execution_count": 51,
   "metadata": {},
   "outputs": [
    {
     "data": {
      "text/html": [
       "<div>\n",
       "<style scoped>\n",
       "    .dataframe tbody tr th:only-of-type {\n",
       "        vertical-align: middle;\n",
       "    }\n",
       "\n",
       "    .dataframe tbody tr th {\n",
       "        vertical-align: top;\n",
       "    }\n",
       "\n",
       "    .dataframe thead th {\n",
       "        text-align: right;\n",
       "    }\n",
       "</style>\n",
       "<table border=\"1\" class=\"dataframe\">\n",
       "  <thead>\n",
       "    <tr style=\"text-align: right;\">\n",
       "      <th></th>\n",
       "      <th>district</th>\n",
       "      <th>count</th>\n",
       "      <th>park_list</th>\n",
       "    </tr>\n",
       "  </thead>\n",
       "  <tbody>\n",
       "    <tr>\n",
       "      <th>0</th>\n",
       "      <td>창원시의창구</td>\n",
       "      <td>255</td>\n",
       "      <td>북면수변생태공원,용지공원,창원단감테마공원,사화공원,본포수변생태공원,창원수목원,대산플라워랜</td>\n",
       "    </tr>\n",
       "    <tr>\n",
       "      <th>1</th>\n",
       "      <td>창원시진해구</td>\n",
       "      <td>207</td>\n",
       "      <td>창원해양공원,진해내수면환경생태공원,제황산공원,장복산공</td>\n",
       "    </tr>\n",
       "    <tr>\n",
       "      <th>2</th>\n",
       "      <td>창원시성산구</td>\n",
       "      <td>69</td>\n",
       "      <td>장미공</td>\n",
       "    </tr>\n",
       "    <tr>\n",
       "      <th>3</th>\n",
       "      <td>창원시마산합포구</td>\n",
       "      <td>38</td>\n",
       "      <td>가포해안변공원,만날공원,산호공</td>\n",
       "    </tr>\n",
       "    <tr>\n",
       "      <th>4</th>\n",
       "      <td>창원시마산회원구</td>\n",
       "      <td>1</td>\n",
       "      <td>삼계근린공원</td>\n",
       "    </tr>\n",
       "  </tbody>\n",
       "</table>\n",
       "</div>"
      ],
      "text/plain": [
       "   district  count                                          park_list\n",
       "0    창원시의창구    255  북면수변생태공원,용지공원,창원단감테마공원,사화공원,본포수변생태공원,창원수목원,대산플라워랜\n",
       "1    창원시진해구    207                      창원해양공원,진해내수면환경생태공원,제황산공원,장복산공\n",
       "2    창원시성산구     69                                                장미공\n",
       "3  창원시마산합포구     38                                   가포해안변공원,만날공원,산호공\n",
       "4  창원시마산회원구      1                                             삼계근린공원"
      ]
     },
     "execution_count": 51,
     "metadata": {},
     "output_type": "execute_result"
    }
   ],
   "source": [
    "district_df = pd.DataFrame({'district':'창원시'+park_coordinates['district'].unique(),\n",
    "                           'count':park_cnt,\n",
    "                           'park_list':park_names})\n",
    "district_df"
   ]
  },
  {
   "cell_type": "code",
   "execution_count": 52,
   "metadata": {},
   "outputs": [
    {
     "data": {
      "text/html": [
       "<div>\n",
       "<style scoped>\n",
       "    .dataframe tbody tr th:only-of-type {\n",
       "        vertical-align: middle;\n",
       "    }\n",
       "\n",
       "    .dataframe tbody tr th {\n",
       "        vertical-align: top;\n",
       "    }\n",
       "\n",
       "    .dataframe thead th {\n",
       "        text-align: right;\n",
       "    }\n",
       "</style>\n",
       "<table border=\"1\" class=\"dataframe\">\n",
       "  <thead>\n",
       "    <tr style=\"text-align: right;\">\n",
       "      <th></th>\n",
       "      <th>일자</th>\n",
       "      <th>지역(시도)</th>\n",
       "      <th>지역(시군구)</th>\n",
       "      <th>검색지명</th>\n",
       "      <th>검색지유형1</th>\n",
       "      <th>검색지유형2</th>\n",
       "      <th>검색지유형3</th>\n",
       "      <th>검색지랭킹(시군구내)</th>\n",
       "      <th>요일</th>\n",
       "      <th>주말/주중</th>\n",
       "      <th>휴일</th>\n",
       "      <th>년도</th>\n",
       "      <th>월</th>\n",
       "    </tr>\n",
       "  </thead>\n",
       "  <tbody>\n",
       "    <tr>\n",
       "      <th>0</th>\n",
       "      <td>2019-01-11</td>\n",
       "      <td>경남</td>\n",
       "      <td>창원시 성산구</td>\n",
       "      <td>창원경상대학교병원</td>\n",
       "      <td>의료편의</td>\n",
       "      <td>의료시설</td>\n",
       "      <td>종합병원</td>\n",
       "      <td>1</td>\n",
       "      <td>금요일</td>\n",
       "      <td>0</td>\n",
       "      <td>0</td>\n",
       "      <td>2019</td>\n",
       "      <td>1</td>\n",
       "    </tr>\n",
       "    <tr>\n",
       "      <th>1</th>\n",
       "      <td>2019-01-11</td>\n",
       "      <td>경남</td>\n",
       "      <td>창원시 성산구</td>\n",
       "      <td>반림트리비앙아파트</td>\n",
       "      <td>건물/시설</td>\n",
       "      <td>주요건물</td>\n",
       "      <td>아파트단지</td>\n",
       "      <td>2</td>\n",
       "      <td>금요일</td>\n",
       "      <td>0</td>\n",
       "      <td>0</td>\n",
       "      <td>2019</td>\n",
       "      <td>1</td>\n",
       "    </tr>\n",
       "    <tr>\n",
       "      <th>2</th>\n",
       "      <td>2019-01-11</td>\n",
       "      <td>경남</td>\n",
       "      <td>창원시 성산구</td>\n",
       "      <td>롯데백화점창원점</td>\n",
       "      <td>쇼핑</td>\n",
       "      <td>대형유통점</td>\n",
       "      <td>백화점</td>\n",
       "      <td>3</td>\n",
       "      <td>금요일</td>\n",
       "      <td>0</td>\n",
       "      <td>0</td>\n",
       "      <td>2019</td>\n",
       "      <td>1</td>\n",
       "    </tr>\n",
       "    <tr>\n",
       "      <th>3</th>\n",
       "      <td>2019-01-11</td>\n",
       "      <td>경남</td>\n",
       "      <td>창원시 성산구</td>\n",
       "      <td>반송노블파크아파트</td>\n",
       "      <td>건물/시설</td>\n",
       "      <td>주요건물</td>\n",
       "      <td>아파트단지</td>\n",
       "      <td>4</td>\n",
       "      <td>금요일</td>\n",
       "      <td>0</td>\n",
       "      <td>0</td>\n",
       "      <td>2019</td>\n",
       "      <td>1</td>\n",
       "    </tr>\n",
       "    <tr>\n",
       "      <th>4</th>\n",
       "      <td>2019-01-11</td>\n",
       "      <td>경남</td>\n",
       "      <td>창원시 성산구</td>\n",
       "      <td>LG전자창원2공장</td>\n",
       "      <td>기업/단체</td>\n",
       "      <td>주요그룹</td>\n",
       "      <td>LG</td>\n",
       "      <td>5</td>\n",
       "      <td>금요일</td>\n",
       "      <td>0</td>\n",
       "      <td>0</td>\n",
       "      <td>2019</td>\n",
       "      <td>1</td>\n",
       "    </tr>\n",
       "  </tbody>\n",
       "</table>\n",
       "</div>"
      ],
      "text/plain": [
       "           일자 지역(시도)  지역(시군구)       검색지명 검색지유형1 검색지유형2 검색지유형3  검색지랭킹(시군구내)  \\\n",
       "0  2019-01-11     경남  창원시 성산구  창원경상대학교병원   의료편의   의료시설   종합병원            1   \n",
       "1  2019-01-11     경남  창원시 성산구  반림트리비앙아파트  건물/시설   주요건물  아파트단지            2   \n",
       "2  2019-01-11     경남  창원시 성산구   롯데백화점창원점     쇼핑  대형유통점    백화점            3   \n",
       "3  2019-01-11     경남  창원시 성산구  반송노블파크아파트  건물/시설   주요건물  아파트단지            4   \n",
       "4  2019-01-11     경남  창원시 성산구  LG전자창원2공장  기업/단체   주요그룹     LG            5   \n",
       "\n",
       "    요일  주말/주중  휴일    년도  월  \n",
       "0  금요일      0   0  2019  1  \n",
       "1  금요일      0   0  2019  1  \n",
       "2  금요일      0   0  2019  1  \n",
       "3  금요일      0   0  2019  1  \n",
       "4  금요일      0   0  2019  1  "
      ]
     },
     "execution_count": 52,
     "metadata": {},
     "output_type": "execute_result"
    }
   ],
   "source": [
    "Changwon_Tmap_df = pd.read_csv('C:\\\\Users\\\\user1\\\\Desktop\\\\창원_빅데이터_공모전\\\\Changwon_BigData_Competition\\\\Preprocessed_data\\\\Changwon_Tmap_df_ver3.csv')\n",
    "del Changwon_Tmap_df['Unnamed: 0']\n",
    "Changwon_Tmap_df.head()"
   ]
  },
  {
   "cell_type": "code",
   "execution_count": 53,
   "metadata": {},
   "outputs": [],
   "source": [
    "geo_path = 'C:\\\\Users\\\\user1\\\\Desktop\\\\창원_빅데이터_공모전\\\\Changwon_BigData_Competition\\\\Raw_data\\\\Changwon_geo.json'\n",
    "geo_str = json.load(open(geo_path,encoding='utf-8'))"
   ]
  },
  {
   "cell_type": "code",
   "execution_count": 64,
   "metadata": {},
   "outputs": [
    {
     "data": {
      "text/html": [
       "<div style=\"width:100%;\"><div style=\"position:relative;width:100%;height:0;padding-bottom:60%;\"><iframe src=\"data:text/html;charset=utf-8;base64,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\" style=\"position:absolute;width:100%;height:100%;left:0;top:0;border:none !important;\" allowfullscreen webkitallowfullscreen mozallowfullscreen></iframe></div></div>"
      ],
      "text/plain": [
       "<folium.folium.Map at 0x6aeff277f0>"
      ]
     },
     "execution_count": 64,
     "metadata": {},
     "output_type": "execute_result"
    }
   ],
   "source": [
    "# 창원시의 지도를 컬러맵으로 그려보기 \n",
    "# 각 해당구에 있는 공원을 Tmap이용자가 검색한 횟수 (2019~2020.07)\n",
    "map = folium.Map(location=[35.2258,128.6075],zoom_start=9.5,\n",
    "                 tiles='Stamen Toner')\n",
    "map.choropleth(geo_data = geo_str,\n",
    "               data = district_df,\n",
    "               columns = ('district','count'),\n",
    "               fill_color = 'PuRd',\n",
    "               key_on = 'feature.properties.name')\n",
    "map"
   ]
  },
  {
   "cell_type": "code",
   "execution_count": null,
   "metadata": {},
   "outputs": [],
   "source": []
  }
 ],
 "metadata": {
  "kernelspec": {
   "display_name": "Python 3",
   "language": "python",
   "name": "python3"
  },
  "language_info": {
   "codemirror_mode": {
    "name": "ipython",
    "version": 3
   },
   "file_extension": ".py",
   "mimetype": "text/x-python",
   "name": "python",
   "nbconvert_exporter": "python",
   "pygments_lexer": "ipython3",
   "version": "3.7.3"
  }
 },
 "nbformat": 4,
 "nbformat_minor": 2
}
