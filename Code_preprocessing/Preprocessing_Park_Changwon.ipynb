{
 "cells": [
  {
   "cell_type": "code",
   "execution_count": 1,
   "metadata": {},
   "outputs": [],
   "source": [
    "import numpy as np\n",
    "import pandas as pd\n",
    "import seaborn as sns\n",
    "import matplotlib.pyplot as plt\n",
    "from scipy import stats\n",
    "import scipy.stats\n",
    "import statsmodels.api as sm\n",
    "import os\n",
    "import datetime as dt\n",
    "import requests\n",
    "from urllib.parse import urlparse\n",
    "import json"
   ]
  },
  {
   "cell_type": "code",
   "execution_count": 2,
   "metadata": {},
   "outputs": [
    {
     "data": {
      "text/plain": [
       "'C:\\\\Users\\\\user1\\\\Desktop\\\\창원_빅데이터_공모전\\\\Changwon_BigData_Competition\\\\Code_preprocessing'"
      ]
     },
     "execution_count": 2,
     "metadata": {},
     "output_type": "execute_result"
    }
   ],
   "source": [
    "os.getcwd()"
   ]
  },
  {
   "cell_type": "code",
   "execution_count": 3,
   "metadata": {},
   "outputs": [
    {
     "data": {
      "text/plain": [
       "Index(['관리번호', '공원명', '공원구분', '소재지도로명주소', '소재지지번주소', '위도', '경도', '공원면적',\n",
       "       '공원보유시설(운동시설)', '공원보유시설(유희시설)', '공원보유시설(편의시설)', '공원보유시설(교양시설)',\n",
       "       '공원보유시설(기타시설)', '지정고시일', '관리기관명', '전화번호', '데이터기준일자', '제공기관코드', '제공기관명'],\n",
       "      dtype='object')"
      ]
     },
     "execution_count": 3,
     "metadata": {},
     "output_type": "execute_result"
    }
   ],
   "source": [
    "park_df = pd.read_csv('C:\\\\Users\\\\user1\\\\Desktop\\\\창원_빅데이터_공모전\\\\Changwon_BigData_Competition\\\\Raw_data\\\\Park_Changwon.csv',encoding='cp949')\n",
    "park_df.columns"
   ]
  },
  {
   "cell_type": "code",
   "execution_count": 4,
   "metadata": {},
   "outputs": [
    {
     "data": {
      "text/html": [
       "<div>\n",
       "<style scoped>\n",
       "    .dataframe tbody tr th:only-of-type {\n",
       "        vertical-align: middle;\n",
       "    }\n",
       "\n",
       "    .dataframe tbody tr th {\n",
       "        vertical-align: top;\n",
       "    }\n",
       "\n",
       "    .dataframe thead th {\n",
       "        text-align: right;\n",
       "    }\n",
       "</style>\n",
       "<table border=\"1\" class=\"dataframe\">\n",
       "  <thead>\n",
       "    <tr style=\"text-align: right;\">\n",
       "      <th></th>\n",
       "      <th>공원명</th>\n",
       "      <th>공원구분</th>\n",
       "      <th>소재지도로명주소</th>\n",
       "      <th>소재지지번주소</th>\n",
       "      <th>위도</th>\n",
       "      <th>경도</th>\n",
       "      <th>공원면적</th>\n",
       "    </tr>\n",
       "  </thead>\n",
       "  <tbody>\n",
       "    <tr>\n",
       "      <th>0</th>\n",
       "      <td>가호2어린이공원</td>\n",
       "      <td>어린이공원</td>\n",
       "      <td>-</td>\n",
       "      <td>경상남도 진주시 가좌동 1438-7</td>\n",
       "      <td>35.158705</td>\n",
       "      <td>128.106265</td>\n",
       "      <td>855.0</td>\n",
       "    </tr>\n",
       "    <tr>\n",
       "      <th>1</th>\n",
       "      <td>초장1지구 역사공원</td>\n",
       "      <td>역사공원</td>\n",
       "      <td>-</td>\n",
       "      <td>경상남도 진주시 초전동 1664</td>\n",
       "      <td>35.211528</td>\n",
       "      <td>128.105637</td>\n",
       "      <td>4849.0</td>\n",
       "    </tr>\n",
       "    <tr>\n",
       "      <th>2</th>\n",
       "      <td>물빛여울공원</td>\n",
       "      <td>문화공원</td>\n",
       "      <td>경상남도 진주시 에나로128번길 14</td>\n",
       "      <td>경상남도 진주시 충무공동 291</td>\n",
       "      <td>35.175809</td>\n",
       "      <td>128.142738</td>\n",
       "      <td>13162.0</td>\n",
       "    </tr>\n",
       "    <tr>\n",
       "      <th>3</th>\n",
       "      <td>평거17어린이공원</td>\n",
       "      <td>어린이공원</td>\n",
       "      <td>경상남도 진주시 남강로 373번길 3</td>\n",
       "      <td>경상남도 진주시 평거동 794-2번지 일원</td>\n",
       "      <td>35.172144</td>\n",
       "      <td>128.067875</td>\n",
       "      <td>1500.0</td>\n",
       "    </tr>\n",
       "    <tr>\n",
       "      <th>4</th>\n",
       "      <td>평거16어린이공원</td>\n",
       "      <td>어린이공원</td>\n",
       "      <td>-</td>\n",
       "      <td>경상남도 진주시 신안동 708-3번지 일원</td>\n",
       "      <td>35.177248</td>\n",
       "      <td>128.070662</td>\n",
       "      <td>1500.0</td>\n",
       "    </tr>\n",
       "  </tbody>\n",
       "</table>\n",
       "</div>"
      ],
      "text/plain": [
       "          공원명   공원구분              소재지도로명주소                  소재지지번주소  \\\n",
       "0    가호2어린이공원  어린이공원                     -      경상남도 진주시 가좌동 1438-7   \n",
       "1  초장1지구 역사공원   역사공원                     -        경상남도 진주시 초전동 1664   \n",
       "2      물빛여울공원   문화공원  경상남도 진주시 에나로128번길 14        경상남도 진주시 충무공동 291   \n",
       "3   평거17어린이공원  어린이공원  경상남도 진주시 남강로 373번길 3  경상남도 진주시 평거동 794-2번지 일원   \n",
       "4   평거16어린이공원  어린이공원                     -  경상남도 진주시 신안동 708-3번지 일원   \n",
       "\n",
       "          위도          경도     공원면적  \n",
       "0  35.158705  128.106265    855.0  \n",
       "1  35.211528  128.105637   4849.0  \n",
       "2  35.175809  128.142738  13162.0  \n",
       "3  35.172144  128.067875   1500.0  \n",
       "4  35.177248  128.070662   1500.0  "
      ]
     },
     "execution_count": 4,
     "metadata": {},
     "output_type": "execute_result"
    }
   ],
   "source": [
    "# 분석에 필요한 열만 추출 \n",
    "park_df = park_df.iloc[:,1:8]\n",
    "park_df.head()"
   ]
  },
  {
   "cell_type": "code",
   "execution_count": 5,
   "metadata": {},
   "outputs": [
    {
     "name": "stdout",
     "output_type": "stream",
     "text": [
      "공원명 : 0\n",
      "공원구분 : 0\n",
      "소재지도로명주소 : 476\n",
      "소재지지번주소 : 2\n",
      "위도 : 0\n",
      "경도 : 0\n",
      "공원면적 : 0\n"
     ]
    },
    {
     "name": "stderr",
     "output_type": "stream",
     "text": [
      "C:\\ProgramData\\Anaconda3\\lib\\site-packages\\pandas\\core\\ops.py:1649: FutureWarning: elementwise comparison failed; returning scalar instead, but in the future will perform elementwise comparison\n",
      "  result = method(y)\n"
     ]
    }
   ],
   "source": [
    "# 결측치 확인 \n",
    "for i in park_df.columns:\n",
    "    print(i,':',len(park_df[park_df[i]=='-']))"
   ]
  },
  {
   "cell_type": "code",
   "execution_count": 6,
   "metadata": {},
   "outputs": [
    {
     "data": {
      "text/plain": [
       "476"
      ]
     },
     "execution_count": 6,
     "metadata": {},
     "output_type": "execute_result"
    }
   ],
   "source": [
    "# 결측치 확인 \n",
    "len(park_df[park_df['소재지도로명주소']=='-'])"
   ]
  },
  {
   "cell_type": "code",
   "execution_count": 7,
   "metadata": {},
   "outputs": [
    {
     "data": {
      "text/html": [
       "<div>\n",
       "<style scoped>\n",
       "    .dataframe tbody tr th:only-of-type {\n",
       "        vertical-align: middle;\n",
       "    }\n",
       "\n",
       "    .dataframe tbody tr th {\n",
       "        vertical-align: top;\n",
       "    }\n",
       "\n",
       "    .dataframe thead th {\n",
       "        text-align: right;\n",
       "    }\n",
       "</style>\n",
       "<table border=\"1\" class=\"dataframe\">\n",
       "  <thead>\n",
       "    <tr style=\"text-align: right;\">\n",
       "      <th></th>\n",
       "      <th>공원명</th>\n",
       "      <th>공원구분</th>\n",
       "      <th>소재지도로명주소</th>\n",
       "      <th>소재지지번주소</th>\n",
       "      <th>위도</th>\n",
       "      <th>경도</th>\n",
       "      <th>공원면적</th>\n",
       "    </tr>\n",
       "  </thead>\n",
       "  <tbody>\n",
       "    <tr>\n",
       "      <th>387</th>\n",
       "      <td>대치공원</td>\n",
       "      <td>근린공원</td>\n",
       "      <td>경상남도 함안군 칠서면 향촌길 20</td>\n",
       "      <td>-</td>\n",
       "      <td>35.363432</td>\n",
       "      <td>128.488949</td>\n",
       "      <td>14449.0</td>\n",
       "    </tr>\n",
       "    <tr>\n",
       "      <th>390</th>\n",
       "      <td>사적공원</td>\n",
       "      <td>근린공원</td>\n",
       "      <td>경상남도 함안군 가야읍 도항1길 46-8</td>\n",
       "      <td>-</td>\n",
       "      <td>35.280446</td>\n",
       "      <td>128.406466</td>\n",
       "      <td>12840.0</td>\n",
       "    </tr>\n",
       "  </tbody>\n",
       "</table>\n",
       "</div>"
      ],
      "text/plain": [
       "      공원명  공원구분                소재지도로명주소 소재지지번주소         위도          경도  \\\n",
       "387  대치공원  근린공원     경상남도 함안군 칠서면 향촌길 20       -  35.363432  128.488949   \n",
       "390  사적공원  근린공원  경상남도 함안군 가야읍 도항1길 46-8       -  35.280446  128.406466   \n",
       "\n",
       "        공원면적  \n",
       "387  14449.0  \n",
       "390  12840.0  "
      ]
     },
     "execution_count": 7,
     "metadata": {},
     "output_type": "execute_result"
    }
   ],
   "source": [
    "park_df[park_df['소재지지번주소']=='-']"
   ]
  },
  {
   "cell_type": "code",
   "execution_count": 8,
   "metadata": {},
   "outputs": [
    {
     "name": "stderr",
     "output_type": "stream",
     "text": [
      "C:\\ProgramData\\Anaconda3\\lib\\site-packages\\ipykernel_launcher.py:4: SettingWithCopyWarning: \n",
      "A value is trying to be set on a copy of a slice from a DataFrame\n",
      "\n",
      "See the caveats in the documentation: http://pandas.pydata.org/pandas-docs/stable/indexing.html#indexing-view-versus-copy\n",
      "  after removing the cwd from sys.path.\n"
     ]
    }
   ],
   "source": [
    "# 소재지도로명주소의 결측치가 476개로 너무 많아 소재지지번주소로 통일하고 \n",
    "# 소재지지번주소의 결측치는 소재지도로명주소로 대체한다 \n",
    "# 그리고 변수명을 그냥 소재지주소로 변경\n",
    "park_df['소재지지번주소'][387] = park_df['소재지도로명주소'][387]"
   ]
  },
  {
   "cell_type": "code",
   "execution_count": 9,
   "metadata": {},
   "outputs": [
    {
     "data": {
      "text/plain": [
       "'경상남도 함안군 칠서면 향촌길 20'"
      ]
     },
     "execution_count": 9,
     "metadata": {},
     "output_type": "execute_result"
    }
   ],
   "source": [
    "park_df['소재지지번주소'][387] "
   ]
  },
  {
   "cell_type": "code",
   "execution_count": 10,
   "metadata": {},
   "outputs": [
    {
     "name": "stderr",
     "output_type": "stream",
     "text": [
      "C:\\ProgramData\\Anaconda3\\lib\\site-packages\\ipykernel_launcher.py:1: SettingWithCopyWarning: \n",
      "A value is trying to be set on a copy of a slice from a DataFrame\n",
      "\n",
      "See the caveats in the documentation: http://pandas.pydata.org/pandas-docs/stable/indexing.html#indexing-view-versus-copy\n",
      "  \"\"\"Entry point for launching an IPython kernel.\n"
     ]
    }
   ],
   "source": [
    "park_df['소재지지번주소'][390] = park_df['소재지도로명주소'][390]"
   ]
  },
  {
   "cell_type": "code",
   "execution_count": 11,
   "metadata": {},
   "outputs": [
    {
     "data": {
      "text/plain": [
       "'경상남도 함안군 가야읍 도항1길 46-8'"
      ]
     },
     "execution_count": 11,
     "metadata": {},
     "output_type": "execute_result"
    }
   ],
   "source": [
    "park_df['소재지지번주소'][390] "
   ]
  },
  {
   "cell_type": "code",
   "execution_count": 12,
   "metadata": {},
   "outputs": [
    {
     "name": "stdout",
     "output_type": "stream",
     "text": [
      "공원명 : 0\n",
      "공원구분 : 0\n",
      "소재지도로명주소 : 476\n",
      "소재지지번주소 : 0\n",
      "위도 : 0\n",
      "경도 : 0\n",
      "공원면적 : 0\n"
     ]
    }
   ],
   "source": [
    "# 결측치 확인 \n",
    "for i in park_df.columns:\n",
    "    print(i,':',len(park_df[park_df[i]=='-']))"
   ]
  },
  {
   "cell_type": "code",
   "execution_count": 13,
   "metadata": {},
   "outputs": [],
   "source": [
    "# 소재지도로명주소 열 제거 \n",
    "del park_df['소재지도로명주소']"
   ]
  },
  {
   "cell_type": "code",
   "execution_count": 14,
   "metadata": {},
   "outputs": [
    {
     "data": {
      "text/html": [
       "<div>\n",
       "<style scoped>\n",
       "    .dataframe tbody tr th:only-of-type {\n",
       "        vertical-align: middle;\n",
       "    }\n",
       "\n",
       "    .dataframe tbody tr th {\n",
       "        vertical-align: top;\n",
       "    }\n",
       "\n",
       "    .dataframe thead th {\n",
       "        text-align: right;\n",
       "    }\n",
       "</style>\n",
       "<table border=\"1\" class=\"dataframe\">\n",
       "  <thead>\n",
       "    <tr style=\"text-align: right;\">\n",
       "      <th></th>\n",
       "      <th>공원명</th>\n",
       "      <th>공원구분</th>\n",
       "      <th>소재지주소</th>\n",
       "      <th>위도</th>\n",
       "      <th>경도</th>\n",
       "      <th>공원면적</th>\n",
       "    </tr>\n",
       "  </thead>\n",
       "  <tbody>\n",
       "    <tr>\n",
       "      <th>0</th>\n",
       "      <td>가호2어린이공원</td>\n",
       "      <td>어린이공원</td>\n",
       "      <td>경상남도 진주시 가좌동 1438-7</td>\n",
       "      <td>35.158705</td>\n",
       "      <td>128.106265</td>\n",
       "      <td>855.0</td>\n",
       "    </tr>\n",
       "    <tr>\n",
       "      <th>1</th>\n",
       "      <td>초장1지구 역사공원</td>\n",
       "      <td>역사공원</td>\n",
       "      <td>경상남도 진주시 초전동 1664</td>\n",
       "      <td>35.211528</td>\n",
       "      <td>128.105637</td>\n",
       "      <td>4849.0</td>\n",
       "    </tr>\n",
       "    <tr>\n",
       "      <th>2</th>\n",
       "      <td>물빛여울공원</td>\n",
       "      <td>문화공원</td>\n",
       "      <td>경상남도 진주시 충무공동 291</td>\n",
       "      <td>35.175809</td>\n",
       "      <td>128.142738</td>\n",
       "      <td>13162.0</td>\n",
       "    </tr>\n",
       "    <tr>\n",
       "      <th>3</th>\n",
       "      <td>평거17어린이공원</td>\n",
       "      <td>어린이공원</td>\n",
       "      <td>경상남도 진주시 평거동 794-2번지 일원</td>\n",
       "      <td>35.172144</td>\n",
       "      <td>128.067875</td>\n",
       "      <td>1500.0</td>\n",
       "    </tr>\n",
       "    <tr>\n",
       "      <th>4</th>\n",
       "      <td>평거16어린이공원</td>\n",
       "      <td>어린이공원</td>\n",
       "      <td>경상남도 진주시 신안동 708-3번지 일원</td>\n",
       "      <td>35.177248</td>\n",
       "      <td>128.070662</td>\n",
       "      <td>1500.0</td>\n",
       "    </tr>\n",
       "  </tbody>\n",
       "</table>\n",
       "</div>"
      ],
      "text/plain": [
       "          공원명   공원구분                    소재지주소         위도          경도     공원면적\n",
       "0    가호2어린이공원  어린이공원      경상남도 진주시 가좌동 1438-7  35.158705  128.106265    855.0\n",
       "1  초장1지구 역사공원   역사공원        경상남도 진주시 초전동 1664  35.211528  128.105637   4849.0\n",
       "2      물빛여울공원   문화공원        경상남도 진주시 충무공동 291  35.175809  128.142738  13162.0\n",
       "3   평거17어린이공원  어린이공원  경상남도 진주시 평거동 794-2번지 일원  35.172144  128.067875   1500.0\n",
       "4   평거16어린이공원  어린이공원  경상남도 진주시 신안동 708-3번지 일원  35.177248  128.070662   1500.0"
      ]
     },
     "execution_count": 14,
     "metadata": {},
     "output_type": "execute_result"
    }
   ],
   "source": [
    "park_df.rename(columns={'소재지지번주소':'소재지주소'},inplace=True)\n",
    "park_df.head()"
   ]
  },
  {
   "cell_type": "code",
   "execution_count": 15,
   "metadata": {
    "scrolled": true
   },
   "outputs": [
    {
     "data": {
      "text/html": [
       "<div>\n",
       "<style scoped>\n",
       "    .dataframe tbody tr th:only-of-type {\n",
       "        vertical-align: middle;\n",
       "    }\n",
       "\n",
       "    .dataframe tbody tr th {\n",
       "        vertical-align: top;\n",
       "    }\n",
       "\n",
       "    .dataframe thead th {\n",
       "        text-align: right;\n",
       "    }\n",
       "</style>\n",
       "<table border=\"1\" class=\"dataframe\">\n",
       "  <thead>\n",
       "    <tr style=\"text-align: right;\">\n",
       "      <th></th>\n",
       "      <th>공원명</th>\n",
       "      <th>공원구분</th>\n",
       "      <th>소재지주소</th>\n",
       "      <th>위도</th>\n",
       "      <th>경도</th>\n",
       "      <th>공원면적</th>\n",
       "    </tr>\n",
       "  </thead>\n",
       "  <tbody>\n",
       "    <tr>\n",
       "      <th>608</th>\n",
       "      <td>꿈동산</td>\n",
       "      <td>어린이공원</td>\n",
       "      <td>경상남도 창원시 의창구 봉곡동 5</td>\n",
       "      <td>35.248733</td>\n",
       "      <td>128.655473</td>\n",
       "      <td>691.0</td>\n",
       "    </tr>\n",
       "    <tr>\n",
       "      <th>609</th>\n",
       "      <td>무동3호</td>\n",
       "      <td>어린이공원</td>\n",
       "      <td>경상남도 창원시 의창구 북면 무동리 121-4</td>\n",
       "      <td>35.319959</td>\n",
       "      <td>128.581953</td>\n",
       "      <td>10114.0</td>\n",
       "    </tr>\n",
       "    <tr>\n",
       "      <th>610</th>\n",
       "      <td>가람공원(어린이공원33)</td>\n",
       "      <td>어린이공원</td>\n",
       "      <td>경상남도 창원시 진해구 용원동 1339-4</td>\n",
       "      <td>35.087521</td>\n",
       "      <td>128.813516</td>\n",
       "      <td>3025.0</td>\n",
       "    </tr>\n",
       "    <tr>\n",
       "      <th>611</th>\n",
       "      <td>국화</td>\n",
       "      <td>어린이공원</td>\n",
       "      <td>경상남도 창원시 의창구 도계동 341-3</td>\n",
       "      <td>35.259182</td>\n",
       "      <td>128.636181</td>\n",
       "      <td>1599.0</td>\n",
       "    </tr>\n",
       "    <tr>\n",
       "      <th>612</th>\n",
       "      <td>개나리</td>\n",
       "      <td>어린이공원</td>\n",
       "      <td>경상남도 창원시 의창구 도계동 358-1</td>\n",
       "      <td>35.260970</td>\n",
       "      <td>128.639965</td>\n",
       "      <td>1710.0</td>\n",
       "    </tr>\n",
       "  </tbody>\n",
       "</table>\n",
       "</div>"
      ],
      "text/plain": [
       "               공원명   공원구분                      소재지주소         위도          경도  \\\n",
       "608            꿈동산  어린이공원         경상남도 창원시 의창구 봉곡동 5  35.248733  128.655473   \n",
       "609           무동3호  어린이공원  경상남도 창원시 의창구 북면 무동리 121-4  35.319959  128.581953   \n",
       "610  가람공원(어린이공원33)  어린이공원    경상남도 창원시 진해구 용원동 1339-4  35.087521  128.813516   \n",
       "611             국화  어린이공원     경상남도 창원시 의창구 도계동 341-3  35.259182  128.636181   \n",
       "612            개나리  어린이공원     경상남도 창원시 의창구 도계동 358-1  35.260970  128.639965   \n",
       "\n",
       "        공원면적  \n",
       "608    691.0  \n",
       "609  10114.0  \n",
       "610   3025.0  \n",
       "611   1599.0  \n",
       "612   1710.0  "
      ]
     },
     "execution_count": 15,
     "metadata": {},
     "output_type": "execute_result"
    }
   ],
   "source": [
    "# 창원시의 공원정보만 추출 \n",
    "park_Changwon_df = park_df[park_df['소재지주소'].str.contains('창원시')]\n",
    "park_Changwon_df.head()"
   ]
  },
  {
   "cell_type": "code",
   "execution_count": 16,
   "metadata": {},
   "outputs": [
    {
     "data": {
      "text/plain": [
       "'C:\\\\Users\\\\user1\\\\Desktop\\\\창원_빅데이터_공모전\\\\Changwon_BigData_Competition\\\\Code_preprocessing'"
      ]
     },
     "execution_count": 16,
     "metadata": {},
     "output_type": "execute_result"
    }
   ],
   "source": [
    "os.getcwd()"
   ]
  },
  {
   "cell_type": "code",
   "execution_count": 18,
   "metadata": {},
   "outputs": [],
   "source": [
    "park_Changwon_df.to_csv('C:\\\\Users\\\\user1\\\\Desktop\\\\창원_빅데이터_공모전\\\\Changwon_BigData_Competition\\\\Preprocessed_data\\\\Park_Changwon_df.csv')"
   ]
  },
  {
   "cell_type": "code",
   "execution_count": null,
   "metadata": {},
   "outputs": [],
   "source": []
  }
 ],
 "metadata": {
  "kernelspec": {
   "display_name": "Python 3",
   "language": "python",
   "name": "python3"
  },
  "language_info": {
   "codemirror_mode": {
    "name": "ipython",
    "version": 3
   },
   "file_extension": ".py",
   "mimetype": "text/x-python",
   "name": "python",
   "nbconvert_exporter": "python",
   "pygments_lexer": "ipython3",
   "version": "3.7.3"
  }
 },
 "nbformat": 4,
 "nbformat_minor": 2
}
